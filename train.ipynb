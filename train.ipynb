{
 "cells": [
  {
   "cell_type": "code",
   "execution_count": 125,
   "id": "e2cb73be-c2cd-4144-aa06-030c3199269f",
   "metadata": {},
   "outputs": [],
   "source": [
    "import torch\n",
    "from torch import nn\n",
    "import pandas as pd\n",
    "from utils import *\n",
    "from dataset import CustomEmbeddingDataset\n",
    "import torch.nn.functional as F\n",
    "import numpy as np\n",
    "import matplotlib.pyplot as plt"
   ]
  },
  {
   "cell_type": "code",
   "execution_count": 153,
   "id": "67adab08-b5c3-49a8-be24-eff4b4bde879",
   "metadata": {
    "tags": []
   },
   "outputs": [
    {
     "data": {
      "application/vnd.jupyter.widget-view+json": {
       "model_id": "f8ddeb5619454e5281cdffc0156a772f",
       "version_major": 2,
       "version_minor": 0
      },
      "text/plain": [
       "Downloading:   0%|          | 0.00/683 [00:00<?, ?B/s]"
      ]
     },
     "metadata": {},
     "output_type": "display_data"
    },
    {
     "data": {
      "application/vnd.jupyter.widget-view+json": {
       "model_id": "3e04f5c4be3341c9b301bf3a1ad8f1a5",
       "version_major": 2,
       "version_minor": 0
      },
      "text/plain": [
       "Downloading:   0%|          | 0.00/122 [00:00<?, ?B/s]"
      ]
     },
     "metadata": {},
     "output_type": "display_data"
    },
    {
     "data": {
      "application/vnd.jupyter.widget-view+json": {
       "model_id": "42b2b7072812477aa848aad526f86178",
       "version_major": 2,
       "version_minor": 0
      },
      "text/plain": [
       "Downloading:   0%|          | 0.00/456k [00:00<?, ?B/s]"
      ]
     },
     "metadata": {},
     "output_type": "display_data"
    },
    {
     "data": {
      "application/vnd.jupyter.widget-view+json": {
       "model_id": "3626e1f8b603435dbf68d3ca3b6de4f5",
       "version_major": 2,
       "version_minor": 0
      },
      "text/plain": [
       "Downloading:   0%|          | 0.00/499M [00:00<?, ?B/s]"
      ]
     },
     "metadata": {},
     "output_type": "display_data"
    },
    {
     "data": {
      "application/vnd.jupyter.widget-view+json": {
       "model_id": "e6fd13c330a3447eb7fff89a0cd7a113",
       "version_major": 2,
       "version_minor": 0
      },
      "text/plain": [
       "Downloading:   0%|          | 0.00/52.0 [00:00<?, ?B/s]"
      ]
     },
     "metadata": {},
     "output_type": "display_data"
    },
    {
     "data": {
      "application/vnd.jupyter.widget-view+json": {
       "model_id": "61f758906f084f1e9d8b992fcc8e9933",
       "version_major": 2,
       "version_minor": 0
      },
      "text/plain": [
       "Downloading:   0%|          | 0.00/239 [00:00<?, ?B/s]"
      ]
     },
     "metadata": {},
     "output_type": "display_data"
    },
    {
     "data": {
      "application/vnd.jupyter.widget-view+json": {
       "model_id": "1aabbe7933634d3fbf99985461fd6e0a",
       "version_major": 2,
       "version_minor": 0
      },
      "text/plain": [
       "Downloading:   0%|          | 0.00/1.36M [00:00<?, ?B/s]"
      ]
     },
     "metadata": {},
     "output_type": "display_data"
    },
    {
     "data": {
      "application/vnd.jupyter.widget-view+json": {
       "model_id": "048f00b4e43046cb8d0a5dd8fac5eb0a",
       "version_major": 2,
       "version_minor": 0
      },
      "text/plain": [
       "Downloading:   0%|          | 0.00/329 [00:00<?, ?B/s]"
      ]
     },
     "metadata": {},
     "output_type": "display_data"
    },
    {
     "data": {
      "application/vnd.jupyter.widget-view+json": {
       "model_id": "0f8a0523474242469fe992478ecf7009",
       "version_major": 2,
       "version_minor": 0
      },
      "text/plain": [
       "Downloading:   0%|          | 0.00/798k [00:00<?, ?B/s]"
      ]
     },
     "metadata": {},
     "output_type": "display_data"
    },
    {
     "data": {
      "application/vnd.jupyter.widget-view+json": {
       "model_id": "dfea177f36934ab2bfd160a06b848c7b",
       "version_major": 2,
       "version_minor": 0
      },
      "text/plain": [
       "Downloading:   0%|          | 0.00/229 [00:00<?, ?B/s]"
      ]
     },
     "metadata": {},
     "output_type": "display_data"
    }
   ],
   "source": [
    "from sentence_transformers import SentenceTransformer, InputExample, losses\n",
    "from torch.utils.data import DataLoader\n",
    "device = 'cuda'\n",
    "# model_id = \"sentence-transformers/all-MiniLM-L6-v2\"\n",
    "# model_id = 'sentence-transformers/distilbert-base-nli-mean-tokens'\n",
    "model_id = 'sentence-transformers/roberta-base-nli-mean-tokens'\n",
    "model = SentenceTransformer(model_id).to(device)"
   ]
  },
  {
   "cell_type": "code",
   "execution_count": 144,
   "id": "a0a2e5f0-1027-44a9-b023-aaaacaa7ae6b",
   "metadata": {},
   "outputs": [],
   "source": [
    "train_data = pd.read_csv('data/preprocessed/nli_coarse_train.csv')\n",
    "train_data['label_count'] = train_data.apply(lambda x: [int(y) for y in string_of_list_to_list(x['label_count'])], axis=1)\n",
    "val_data = pd.read_csv('data/preprocessed/nli_coarse_val.csv')"
   ]
  },
  {
   "cell_type": "code",
   "execution_count": 108,
   "id": "b516473c-dc8c-4aab-a5ba-5b97547bd742",
   "metadata": {},
   "outputs": [
    {
     "data": {
      "text/html": [
       "<div>\n",
       "<style scoped>\n",
       "    .dataframe tbody tr th:only-of-type {\n",
       "        vertical-align: middle;\n",
       "    }\n",
       "\n",
       "    .dataframe tbody tr th {\n",
       "        vertical-align: top;\n",
       "    }\n",
       "\n",
       "    .dataframe thead th {\n",
       "        text-align: right;\n",
       "    }\n",
       "</style>\n",
       "<table border=\"1\" class=\"dataframe\">\n",
       "  <thead>\n",
       "    <tr style=\"text-align: right;\">\n",
       "      <th></th>\n",
       "      <th>annotator_labels</th>\n",
       "      <th>gold_label</th>\n",
       "      <th>captionID</th>\n",
       "      <th>pairID</th>\n",
       "      <th>premise</th>\n",
       "      <th>hypothesis</th>\n",
       "      <th>label_count</th>\n",
       "      <th>label_dist</th>\n",
       "    </tr>\n",
       "  </thead>\n",
       "  <tbody>\n",
       "    <tr>\n",
       "      <th>0</th>\n",
       "      <td>['entailment', 'entailment', 'entailment', 'en...</td>\n",
       "      <td>entailment</td>\n",
       "      <td>3612249030.jpg#1</td>\n",
       "      <td>3612249030.jpg#1r1e</td>\n",
       "      <td>A boy is carrying a black body board across th...</td>\n",
       "      <td>The boy is holding an item.</td>\n",
       "      <td>[5, 0, 0]</td>\n",
       "      <td>[1.0, 0.0, 0.0]</td>\n",
       "    </tr>\n",
       "    <tr>\n",
       "      <th>1</th>\n",
       "      <td>['entailment', 'entailment', 'entailment', 'en...</td>\n",
       "      <td>entailment</td>\n",
       "      <td>3084011028.jpg#1</td>\n",
       "      <td>3084011028.jpg#1r1e</td>\n",
       "      <td>Two women with long hair posing for a picture</td>\n",
       "      <td>Two women near a camera.</td>\n",
       "      <td>[5, 0, 0]</td>\n",
       "      <td>[1.0, 0.0, 0.0]</td>\n",
       "    </tr>\n",
       "    <tr>\n",
       "      <th>2</th>\n",
       "      <td>['contradiction', 'contradiction', 'contradict...</td>\n",
       "      <td>contradiction</td>\n",
       "      <td>3626964430.jpg#4</td>\n",
       "      <td>3626964430.jpg#4r1c</td>\n",
       "      <td>People playing cricket on a field.</td>\n",
       "      <td>players play football</td>\n",
       "      <td>[0, 0, 5]</td>\n",
       "      <td>[0.0, 0.0, 1.0]</td>\n",
       "    </tr>\n",
       "    <tr>\n",
       "      <th>3</th>\n",
       "      <td>['neutral', 'neutral', 'neutral', 'neutral', '...</td>\n",
       "      <td>neutral</td>\n",
       "      <td>2230260635.jpg#3</td>\n",
       "      <td>2230260635.jpg#3r1n</td>\n",
       "      <td>A person crouches under a yellow umbrella on t...</td>\n",
       "      <td>The person seeks shelter from the rain.</td>\n",
       "      <td>[0, 5, 0]</td>\n",
       "      <td>[0.0, 1.0, 0.0]</td>\n",
       "    </tr>\n",
       "    <tr>\n",
       "      <th>4</th>\n",
       "      <td>['entailment', 'entailment', 'entailment', 'en...</td>\n",
       "      <td>entailment</td>\n",
       "      <td>2575233295.jpg#2</td>\n",
       "      <td>2575233295.jpg#2r1e</td>\n",
       "      <td>A group of men sitting on the floor of a windo...</td>\n",
       "      <td>A group sits on the floor.</td>\n",
       "      <td>[5, 0, 0]</td>\n",
       "      <td>[1.0, 0.0, 0.0]</td>\n",
       "    </tr>\n",
       "  </tbody>\n",
       "</table>\n",
       "</div>"
      ],
      "text/plain": [
       "                                    annotator_labels     gold_label  \\\n",
       "0  ['entailment', 'entailment', 'entailment', 'en...     entailment   \n",
       "1  ['entailment', 'entailment', 'entailment', 'en...     entailment   \n",
       "2  ['contradiction', 'contradiction', 'contradict...  contradiction   \n",
       "3  ['neutral', 'neutral', 'neutral', 'neutral', '...        neutral   \n",
       "4  ['entailment', 'entailment', 'entailment', 'en...     entailment   \n",
       "\n",
       "          captionID               pairID  \\\n",
       "0  3612249030.jpg#1  3612249030.jpg#1r1e   \n",
       "1  3084011028.jpg#1  3084011028.jpg#1r1e   \n",
       "2  3626964430.jpg#4  3626964430.jpg#4r1c   \n",
       "3  2230260635.jpg#3  2230260635.jpg#3r1n   \n",
       "4  2575233295.jpg#2  2575233295.jpg#2r1e   \n",
       "\n",
       "                                             premise  \\\n",
       "0  A boy is carrying a black body board across th...   \n",
       "1      Two women with long hair posing for a picture   \n",
       "2                 People playing cricket on a field.   \n",
       "3  A person crouches under a yellow umbrella on t...   \n",
       "4  A group of men sitting on the floor of a windo...   \n",
       "\n",
       "                                hypothesis label_count       label_dist  \n",
       "0              The boy is holding an item.   [5, 0, 0]  [1.0, 0.0, 0.0]  \n",
       "1                 Two women near a camera.   [5, 0, 0]  [1.0, 0.0, 0.0]  \n",
       "2                    players play football   [0, 0, 5]  [0.0, 0.0, 1.0]  \n",
       "3  The person seeks shelter from the rain.   [0, 5, 0]  [0.0, 1.0, 0.0]  \n",
       "4               A group sits on the floor.   [5, 0, 0]  [1.0, 0.0, 0.0]  "
      ]
     },
     "execution_count": 108,
     "metadata": {},
     "output_type": "execute_result"
    }
   ],
   "source": [
    "train_data.head()"
   ]
  },
  {
   "cell_type": "code",
   "execution_count": 150,
   "id": "f85b703e-b57e-4445-82eb-1a996cbdff1a",
   "metadata": {},
   "outputs": [
    {
     "name": "stderr",
     "output_type": "stream",
     "text": [
      "/tmp/ipykernel_1312/3523762393.py:1: SettingWithCopyWarning: \n",
      "A value is trying to be set on a copy of a slice from a DataFrame.\n",
      "Try using .loc[row_indexer,col_indexer] = value instead\n",
      "\n",
      "See the caveats in the documentation: https://pandas.pydata.org/pandas-docs/stable/user_guide/indexing.html#returning-a-view-versus-a-copy\n",
      "  train_data['num_of_annotation'] = train_data.apply(lambda x: np.sum(x['label_count']), axis=1)\n"
     ]
    }
   ],
   "source": [
    "train_data['num_of_annotation'] = train_data.apply(lambda x: np.sum(x['label_count']), axis=1)\n",
    "\n",
    "train_data = train_data[train_data['num_of_annotation']==5].copy().reset_index(drop=True)\n",
    "\n",
    "train_data['converted_score'] = train_data.apply(lambda x: (x['label_count'][0]*1+x['label_count'][1]*0+x['label_count'][2]*(-1)) / np.sum(x['label_count']), axis=1)"
   ]
  },
  {
   "cell_type": "code",
   "execution_count": 156,
   "id": "14163d7c-14df-49f9-999b-5b45d0f8e3e3",
   "metadata": {},
   "outputs": [
    {
     "data": {
      "text/plain": [
       "-1.0    12328\n",
       " 1.0    11378\n",
       " 0.0     8223\n",
       " 0.2     3800\n",
       " 0.8     3354\n",
       "-0.2     3053\n",
       "-0.8     2574\n",
       " 0.6     2393\n",
       "-0.6     1920\n",
       " 0.4     1866\n",
       "-0.4     1284\n",
       "Name: converted_score, dtype: int64"
      ]
     },
     "execution_count": 156,
     "metadata": {},
     "output_type": "execute_result"
    }
   ],
   "source": [
    "train_data.converted_score.value_counts()"
   ]
  },
  {
   "cell_type": "code",
   "execution_count": 193,
   "id": "ceb9f69d-4773-433c-81c5-b894908455b8",
   "metadata": {
    "tags": []
   },
   "outputs": [],
   "source": [
    "np.random.seed(4)\n",
    "noises = np.random.normal(0, 0.05, len(train_data))\n",
    "train_examples = []\n",
    "for i, row in train_data.iterrows():\n",
    "    train_examples.append(InputExample(texts=[row['premise'], row['hypothesis']], label=float(row['converted_score']+noises[i])))"
   ]
  },
  {
   "cell_type": "code",
   "execution_count": null,
   "id": "9781a24f-aeea-4581-9fe4-430bcc0544ba",
   "metadata": {},
   "outputs": [],
   "source": []
  },
  {
   "cell_type": "code",
   "execution_count": 194,
   "id": "eb0462b6-a5e6-46c4-886c-d35cf90bddbd",
   "metadata": {
    "tags": []
   },
   "outputs": [
    {
     "data": {
      "application/vnd.jupyter.widget-view+json": {
       "model_id": "398901a55ba14bad92a63cfb1b9e042f",
       "version_major": 2,
       "version_minor": 0
      },
      "text/plain": [
       "Epoch:   0%|          | 0/1 [00:00<?, ?it/s]"
      ]
     },
     "metadata": {},
     "output_type": "display_data"
    },
    {
     "data": {
      "application/vnd.jupyter.widget-view+json": {
       "model_id": "106bd49b7b06470696bdd17f266016fb",
       "version_major": 2,
       "version_minor": 0
      },
      "text/plain": [
       "Iteration:   0%|          | 0/3261 [00:00<?, ?it/s]"
      ]
     },
     "metadata": {},
     "output_type": "display_data"
    }
   ],
   "source": [
    "train_dataloader = DataLoader(train_examples, batch_size=16)\n",
    "train_loss = losses.CosineSimilarityLoss(model)\n",
    "model.fit(train_objectives=[(train_dataloader, train_loss)], epochs=1, warmup_steps=100)"
   ]
  },
  {
   "cell_type": "code",
   "execution_count": 210,
   "id": "17af8387-0b4f-4103-99a7-30c1f4b1a218",
   "metadata": {},
   "outputs": [
    {
     "data": {
      "text/html": [
       "<div>\n",
       "<style scoped>\n",
       "    .dataframe tbody tr th:only-of-type {\n",
       "        vertical-align: middle;\n",
       "    }\n",
       "\n",
       "    .dataframe tbody tr th {\n",
       "        vertical-align: top;\n",
       "    }\n",
       "\n",
       "    .dataframe thead th {\n",
       "        text-align: right;\n",
       "    }\n",
       "</style>\n",
       "<table border=\"1\" class=\"dataframe\">\n",
       "  <thead>\n",
       "    <tr style=\"text-align: right;\">\n",
       "      <th></th>\n",
       "      <th>index</th>\n",
       "      <th>annotator_labels</th>\n",
       "      <th>gold_label</th>\n",
       "      <th>captionID</th>\n",
       "      <th>pairID</th>\n",
       "      <th>premise</th>\n",
       "      <th>hypothesis</th>\n",
       "      <th>label_count</th>\n",
       "      <th>label_dist</th>\n",
       "      <th>num_of_annotation</th>\n",
       "      <th>converted_score</th>\n",
       "    </tr>\n",
       "  </thead>\n",
       "  <tbody>\n",
       "    <tr>\n",
       "      <th>52118</th>\n",
       "      <td>54218</td>\n",
       "      <td>['entailment', 'contradiction', 'neutral', 'ne...</td>\n",
       "      <td>-</td>\n",
       "      <td>4818429638.jpg#0</td>\n",
       "      <td>4818429638.jpg#0r1e</td>\n",
       "      <td>A black man stands behind a garbage can with h...</td>\n",
       "      <td>A man holding a sign that has a proselytizing ...</td>\n",
       "      <td>[2, 2, 1]</td>\n",
       "      <td>[0.4, 0.4, 0.2]</td>\n",
       "      <td>5</td>\n",
       "      <td>0.2</td>\n",
       "    </tr>\n",
       "  </tbody>\n",
       "</table>\n",
       "</div>"
      ],
      "text/plain": [
       "       index                                   annotator_labels gold_label  \\\n",
       "52118  54218  ['entailment', 'contradiction', 'neutral', 'ne...          -   \n",
       "\n",
       "              captionID               pairID  \\\n",
       "52118  4818429638.jpg#0  4818429638.jpg#0r1e   \n",
       "\n",
       "                                                 premise  \\\n",
       "52118  A black man stands behind a garbage can with h...   \n",
       "\n",
       "                                              hypothesis label_count  \\\n",
       "52118  A man holding a sign that has a proselytizing ...   [2, 2, 1]   \n",
       "\n",
       "            label_dist  num_of_annotation  converted_score  \n",
       "52118  [0.4, 0.4, 0.2]                  5              0.2  "
      ]
     },
     "execution_count": 210,
     "metadata": {},
     "output_type": "execute_result"
    }
   ],
   "source": [
    "train_data[train_data['captionID']=='4818429638.jpg#0']"
   ]
  },
  {
   "cell_type": "code",
   "execution_count": 71,
   "id": "1ce25be8-e32c-4162-9169-c0a279f31374",
   "metadata": {
    "jupyter": {
     "source_hidden": true
    },
    "tags": []
   },
   "outputs": [],
   "source": [
    "class SoftCrossEntropyLoss(nn.Module):\n",
    "    def __init__(self, weights):\n",
    "      super().__init__()\n",
    "      self.weights = weights\n",
    "\n",
    "    def forward(self, y_hat, y):\n",
    "      p = F.log_softmax(y_hat, 1)\n",
    "      w_labels = self.weights*y\n",
    "      loss = -(w_labels*p).sum() / (w_labels).sum()\n",
    "      return loss"
   ]
  },
  {
   "cell_type": "code",
   "execution_count": 77,
   "id": "8057f81e-5a99-4cdc-be1e-1ccf95f772ee",
   "metadata": {
    "tags": []
   },
   "outputs": [],
   "source": [
    "loss = SoftCrossEntropyLoss(torch.ones(1,4))"
   ]
  },
  {
   "cell_type": "code",
   "execution_count": 78,
   "id": "e0d142b9-cb77-4e71-8965-02c88e05a06d",
   "metadata": {},
   "outputs": [
    {
     "data": {
      "text/plain": [
       "tensor(1.4402, grad_fn=<DivBackward0>)"
      ]
     },
     "execution_count": 78,
     "metadata": {},
     "output_type": "execute_result"
    }
   ],
   "source": [
    "loss(logits, label)"
   ]
  },
  {
   "cell_type": "code",
   "execution_count": 220,
   "id": "8f1625c6-da40-4df5-8b97-e2d60034b99a",
   "metadata": {
    "tags": []
   },
   "outputs": [],
   "source": [
    "sent1 = 'I am watching a movie.'\n",
    "sent2 = 'I am not watching a movie.'"
   ]
  },
  {
   "cell_type": "code",
   "execution_count": 221,
   "id": "6e908098-8d72-4550-a4f9-bf67a6fcf0da",
   "metadata": {},
   "outputs": [
    {
     "data": {
      "text/plain": [
       "0.63236743"
      ]
     },
     "execution_count": 221,
     "metadata": {},
     "output_type": "execute_result"
    }
   ],
   "source": [
    "a, b = model.encode([sent1, sent2])\n",
    "cos_sim = np.dot(a, b)/(np.linalg.norm(a)*np.linalg.norm(b))\n",
    "cos_sim"
   ]
  },
  {
   "cell_type": "code",
   "execution_count": null,
   "id": "589fe501-9b53-4f2f-963c-a7c3c2b2641f",
   "metadata": {},
   "outputs": [],
   "source": []
  },
  {
   "cell_type": "code",
   "execution_count": null,
   "id": "af5407bb-b9b5-4f99-99df-74afedb72602",
   "metadata": {},
   "outputs": [],
   "source": []
  }
 ],
 "metadata": {
  "kernelspec": {
   "display_name": "Python 3 (ipykernel)",
   "language": "python",
   "name": "python3"
  },
  "language_info": {
   "codemirror_mode": {
    "name": "ipython",
    "version": 3
   },
   "file_extension": ".py",
   "mimetype": "text/x-python",
   "name": "python",
   "nbconvert_exporter": "python",
   "pygments_lexer": "ipython3",
   "version": "3.9.13"
  }
 },
 "nbformat": 4,
 "nbformat_minor": 5
}

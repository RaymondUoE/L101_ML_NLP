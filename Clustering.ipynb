{
 "cells": [
  {
   "cell_type": "code",
   "execution_count": 100,
   "id": "d4cad64b-5ddd-4aeb-a3c0-344ef594e595",
   "metadata": {},
   "outputs": [
    {
     "data": {
      "text/plain": [
       "<Figure size 1400x700 with 0 Axes>"
      ]
     },
     "execution_count": 100,
     "metadata": {},
     "output_type": "execute_result"
    },
    {
     "data": {
      "text/plain": [
       "<Figure size 1400x700 with 0 Axes>"
      ]
     },
     "metadata": {},
     "output_type": "display_data"
    }
   ],
   "source": [
    "from sklearn.cluster import KMeans\n",
    "from sklearn.preprocessing import normalize\n",
    "import matplotlib.pyplot as plt\n",
    "from utils import *\n",
    "\n",
    "import numpy as np\n",
    "import pandas as pd\n",
    "from sentence_transformers import SentenceTransformer, InputExample\n",
    "\n",
    "device = 'cuda'\n",
    "model_id = \"sentence-transformers/all-MiniLM-L6-v2\"\n",
    "model = SentenceTransformer(model_id).to(device)\n",
    "plt.figure(figsize=(14, 7))"
   ]
  },
  {
   "cell_type": "code",
   "execution_count": 91,
   "id": "b6a23b94-af29-4967-b1dc-d3bfd6b40572",
   "metadata": {},
   "outputs": [
    {
     "data": {
      "text/html": [
       "<div>\n",
       "<style scoped>\n",
       "    .dataframe tbody tr th:only-of-type {\n",
       "        vertical-align: middle;\n",
       "    }\n",
       "\n",
       "    .dataframe tbody tr th {\n",
       "        vertical-align: top;\n",
       "    }\n",
       "\n",
       "    .dataframe thead th {\n",
       "        text-align: right;\n",
       "    }\n",
       "</style>\n",
       "<table border=\"1\" class=\"dataframe\">\n",
       "  <thead>\n",
       "    <tr style=\"text-align: right;\">\n",
       "      <th></th>\n",
       "      <th>uid</th>\n",
       "      <th>label_dist</th>\n",
       "      <th>majority_label</th>\n",
       "      <th>entropy</th>\n",
       "      <th>premise</th>\n",
       "      <th>hypothesis</th>\n",
       "    </tr>\n",
       "  </thead>\n",
       "  <tbody>\n",
       "    <tr>\n",
       "      <th>0</th>\n",
       "      <td>111680e</td>\n",
       "      <td>[0.91, 0.07, 0.02]</td>\n",
       "      <td>e</td>\n",
       "      <td>0.505248</td>\n",
       "      <td>He dismounted and Ca'daan saw he was smaller t...</td>\n",
       "      <td>He was shorter than the others.</td>\n",
       "    </tr>\n",
       "    <tr>\n",
       "      <th>1</th>\n",
       "      <td>8221794333.jpg#0r1n</td>\n",
       "      <td>[0.22, 0.64, 0.14]</td>\n",
       "      <td>n</td>\n",
       "      <td>1.289752</td>\n",
       "      <td>A young boy in a Cookie Monster t-shirt sits o...</td>\n",
       "      <td>A young boy is playing in a pile of leaves.</td>\n",
       "    </tr>\n",
       "    <tr>\n",
       "      <th>2</th>\n",
       "      <td>4637931300.jpg#2r1n</td>\n",
       "      <td>[0.0, 0.9, 0.1]</td>\n",
       "      <td>n</td>\n",
       "      <td>0.468996</td>\n",
       "      <td>A man in an orange construction vest walks in ...</td>\n",
       "      <td>The child has no legs.</td>\n",
       "    </tr>\n",
       "    <tr>\n",
       "      <th>3</th>\n",
       "      <td>36715n</td>\n",
       "      <td>[0.02, 0.8, 0.18]</td>\n",
       "      <td>n</td>\n",
       "      <td>0.815727</td>\n",
       "      <td>Jon twisted the man's wrist.</td>\n",
       "      <td>Jon grabbed the man and yelled at him.</td>\n",
       "    </tr>\n",
       "    <tr>\n",
       "      <th>4</th>\n",
       "      <td>4116163419.jpg#0r2n</td>\n",
       "      <td>[0.02, 0.9500000000000001, 0.03]</td>\n",
       "      <td>n</td>\n",
       "      <td>0.334944</td>\n",
       "      <td>A man wearing a suit with a name tag stands re...</td>\n",
       "      <td>A man with a name tag that reads \"Ben\" is stan...</td>\n",
       "    </tr>\n",
       "  </tbody>\n",
       "</table>\n",
       "</div>"
      ],
      "text/plain": [
       "                   uid                        label_dist majority_label  \\\n",
       "0              111680e                [0.91, 0.07, 0.02]              e   \n",
       "1  8221794333.jpg#0r1n                [0.22, 0.64, 0.14]              n   \n",
       "2  4637931300.jpg#2r1n                   [0.0, 0.9, 0.1]              n   \n",
       "3               36715n                 [0.02, 0.8, 0.18]              n   \n",
       "4  4116163419.jpg#0r2n  [0.02, 0.9500000000000001, 0.03]              n   \n",
       "\n",
       "    entropy                                            premise  \\\n",
       "0  0.505248  He dismounted and Ca'daan saw he was smaller t...   \n",
       "1  1.289752  A young boy in a Cookie Monster t-shirt sits o...   \n",
       "2  0.468996  A man in an orange construction vest walks in ...   \n",
       "3  0.815727                       Jon twisted the man's wrist.   \n",
       "4  0.334944  A man wearing a suit with a name tag stands re...   \n",
       "\n",
       "                                          hypothesis  \n",
       "0                    He was shorter than the others.  \n",
       "1        A young boy is playing in a pile of leaves.  \n",
       "2                             The child has no legs.  \n",
       "3             Jon grabbed the man and yelled at him.  \n",
       "4  A man with a name tag that reads \"Ben\" is stan...  "
      ]
     },
     "execution_count": 91,
     "metadata": {},
     "output_type": "execute_result"
    }
   ],
   "source": [
    "data = pd.read_csv('data/preprocessed/chaos_train.csv')[['uid', 'label_dist', 'majority_label', 'entropy', 'premise', 'hypothesis']]\n",
    "data['label_dist'] = data.apply(lambda x: [float(y) for y in string_of_list_to_list(x['label_dist'])], axis=1)\n",
    "data.head()"
   ]
  },
  {
   "cell_type": "code",
   "execution_count": 39,
   "id": "168cf66f-3d1d-4dc8-8523-6f8649d85123",
   "metadata": {},
   "outputs": [
    {
     "data": {
      "application/vnd.jupyter.widget-view+json": {
       "model_id": "3eb3cee3b856407ca3eac39e58bacb50",
       "version_major": 2,
       "version_minor": 0
      },
      "text/plain": [
       "Batches:   0%|          | 0/78 [00:00<?, ?it/s]"
      ]
     },
     "metadata": {},
     "output_type": "display_data"
    },
    {
     "data": {
      "application/vnd.jupyter.widget-view+json": {
       "model_id": "fdde76e52c1d453897e5347c36380461",
       "version_major": 2,
       "version_minor": 0
      },
      "text/plain": [
       "Batches:   0%|          | 0/78 [00:00<?, ?it/s]"
      ]
     },
     "metadata": {},
     "output_type": "display_data"
    }
   ],
   "source": [
    "ps = list(data['premise'])\n",
    "hs = list(data['hypothesis'])\n",
    "p_embedding = model.encode(sentences = ps, show_progress_bar=True, convert_to_numpy=True)\n",
    "h_embedding = model.encode(sentences = hs, show_progress_bar=True, convert_to_numpy=True)\n",
    "diff = p_embedding - h_embedding\n",
    "diff = normalize(diff, axis=1)"
   ]
  },
  {
   "cell_type": "code",
   "execution_count": 104,
   "id": "4852211f-9934-4cdb-b444-b3c138af6632",
   "metadata": {},
   "outputs": [],
   "source": [
    "n_clusters = 5\n",
    "kmeans = KMeans(n_clusters=n_clusters, random_state=0).fit(diff)\n",
    "data['k_mean'] = kmeans.labels_\n",
    "\n",
    "ents_per_cluster = []\n",
    "for i in range(n_clusters):\n",
    "    ents = np.array(data[data['k_mean'] == i]['entropy'])\n",
    "    ents_per_cluster.append(ents)"
   ]
  },
  {
   "cell_type": "code",
   "execution_count": 88,
   "id": "e5466004-f42a-4d5b-a802-ca2618793bd0",
   "metadata": {},
   "outputs": [
    {
     "data": {
      "image/png": "[encoded data removed]",
      "text/plain": [
       "<Figure size 640x480 with 1 Axes>"
      ]
     },
     "metadata": {},
     "output_type": "display_data"
    }
   ],
   "source": [
    "plt.boxplot(x=ents_per_cluster, labels=range(n_clusters))\n",
    "plt.show()"
   ]
  },
  {
   "cell_type": "code",
   "execution_count": 110,
   "id": "227555ec-e13e-45bd-8301-d4daede0f92e",
   "metadata": {},
   "outputs": [
    {
     "data": {
      "image/png": "[encoded data removed]",
      "text/plain": [
       "<Figure size 1400x3000 with 5 Axes>"
      ]
     },
     "metadata": {},
     "output_type": "display_data"
    }
   ],
   "source": [
    "plt.figure(figsize=(14, 30))\n",
    "for c in range(n_clusters):\n",
    "    cluster = data[data['k_mean'] == c]\n",
    "    es = [x[0] for x in cluster['label_dist']]\n",
    "    ns = [x[1] for x in cluster['label_dist']]\n",
    "    cs = [x[2] for x in cluster['label_dist']]\n",
    "    \n",
    "    plt.subplot(10, 3, c+1)\n",
    "    plt.boxplot(x=[es, ns, cs], labels=['e', 'n', 'c'])\n",
    "\n",
    "plt.show()"
   ]
  },
  {
   "cell_type": "code",
   "execution_count": 112,
   "id": "4f4fdb67-ee06-46a2-aaf1-940899deaf71",
   "metadata": {
    "tags": []
   },
   "outputs": [],
   "source": [
    "a, b = model.encode(['This is a sentence.', 'What on earth are you doing?'])"
   ]
  },
  {
   "cell_type": "code",
   "execution_count": 114,
   "id": "76b7637a-79ab-4cb2-99b8-9571cd5c801f",
   "metadata": {},
   "outputs": [],
   "source": [
    "cos_sim = np.dot(a, b)/(np.linalg.norm(a)*np.linalg.norm(b))"
   ]
  },
  {
   "cell_type": "code",
   "execution_count": 115,
   "id": "ebf083c2-f47d-4290-bbfc-86efb189abb8",
   "metadata": {},
   "outputs": [
    {
     "data": {
      "text/plain": [
       "0.18786618"
      ]
     },
     "execution_count": 115,
     "metadata": {},
     "output_type": "execute_result"
    }
   ],
   "source": [
    "cos_sim"
   ]
  }
 ],
 "metadata": {
  "kernelspec": {
   "display_name": "Python 3 (ipykernel)",
   "language": "python",
   "name": "python3"
  },
  "language_info": {
   "codemirror_mode": {
    "name": "ipython",
    "version": 3
   },
   "file_extension": ".py",
   "mimetype": "text/x-python",
   "name": "python",
   "nbconvert_exporter": "python",
   "pygments_lexer": "ipython3",
   "version": "3.9.13"
  }
 },
 "nbformat": 4,
 "nbformat_minor": 5
}
